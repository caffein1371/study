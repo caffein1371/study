{
 "cells": [
  {
   "cell_type": "code",
   "execution_count": 3,
   "metadata": {},
   "outputs": [
    {
     "data": {
      "image/png": "[encoded data removed]",
      "text/plain": [
       "<matplotlib.figure.Figure at 0x113ebce48>"
      ]
     },
     "metadata": {},
     "output_type": "display_data"
    }
   ],
   "source": [
    "import numpy as np\n",
    "import matplotlib.pyplot as plt\n",
    "\n",
    "#学習データを読み込む\n",
    "train = np.loadtxt('verification.csv', delimiter =',', skiprows=1)\n",
    "train_x = train[:,0:2]\n",
    "train_y = train[:,2]\n",
    "\n",
    "#プロット\n",
    "plt.plot(train_x[train_y ==1,0],train_x[train_y ==1,1],'o')\n",
    "plt.plot(train_x[train_y ==-1,0],train_x[train_y ==-1,1],'x')\n",
    "plt.axis('scaled')\n",
    "plt.show()"
   ]
  },
  {
   "cell_type": "code",
   "execution_count": 4,
   "metadata": {},
   "outputs": [],
   "source": [
    "#重みの初期化\n",
    "w =np.random.rand(2)\n",
    "#識別関数\n",
    "def f(x):\n",
    "    if np.dot(w,x) >=0:\n",
    "        return 1\n",
    "    else:\n",
    "        return -1\n"
   ]
  },
  {
   "cell_type": "code",
   "execution_count": 6,
   "metadata": {},
   "outputs": [
    {
     "name": "stdout",
     "output_type": "stream",
     "text": [
      "1回目：w =[-152.59262743 -431.59341226]\n",
      "2回目：w =[321.40737257 -47.59341226]\n",
      "3回目：w =[  88.40737257 -477.59341226]\n",
      "4回目：w =[ 484.40737257 -116.59341226]\n",
      "5回目：w =[  85.40737257 -549.59341226]\n",
      "6回目：w =[ 488.40737257 -209.59341226]\n",
      "7回目：w =[ 109.40737257 -625.59341226]\n",
      "8回目：w =[ 372.40737257 -513.59341226]\n",
      "9回目：w =[ 846.40737257 -129.59341226]\n",
      "10回目：w =[ 613.40737257 -559.59341226]\n",
      "11回目：w =[ 214.40737257 -992.59341226]\n",
      "12回目：w =[ 617.40737257 -652.59341226]\n",
      "13回目：w =[1114.40737257 -180.59341226]\n",
      "14回目：w =[ 735.40737257 -596.59341226]\n",
      "15回目：w =[ 515.40737257 -858.59341226]\n",
      "16回目：w =[ 989.40737257 -474.59341226]\n",
      "17回目：w =[ 756.40737257 -904.59341226]\n",
      "18回目：w =[1152.40737257 -543.59341226]\n",
      "19回目：w =[ 753.40737257 -976.59341226]\n",
      "20回目：w =[1156.40737257 -636.59341226]\n",
      "21回目：w =[  777.40737257 -1052.59341226]\n",
      "22回目：w =[1251.40737257 -668.59341226]\n",
      "23回目：w =[ 1018.40737257 -1098.59341226]\n",
      "24回目：w =[1515.40737257 -626.59341226]\n",
      "25回目：w =[ 1136.40737257 -1042.59341226]\n",
      "26回目：w =[  737.40737257 -1475.59341226]\n",
      "27回目：w =[ 1140.40737257 -1135.59341226]\n"
     ]
    }
   ],
   "source": [
    "#繰り返し回数\n",
    "epoch = 10\n",
    "#更新回数\n",
    "count = 0\n",
    "#重みを学習する\n",
    "for _ in range(epoch):\n",
    "    for x,y in zip(train_x,train_y):\n",
    "        if f(x) !=y:\n",
    "            w = w + y * x\n",
    "            #ログの出力\n",
    "            count +=1\n",
    "            print('{}回目：w ={}'.format(count,w))"
   ]
  },
  {
   "cell_type": "code",
   "execution_count": 8,
   "metadata": {},
   "outputs": [
    {
     "data": {
      "image/png": "[encoded data removed]",
      "text/plain": [
       "<matplotlib.figure.Figure at 0x1167f02e8>"
      ]
     },
     "metadata": {},
     "output_type": "display_data"
    }
   ],
   "source": [
    "x1 = np.arange(0,500)\n",
    "\n",
    "plt.plot(train_x[train_y ==1,0],train_x[train_y ==1,1],'o')\n",
    "plt.plot(train_x[train_y ==-1,0],train_x[train_y ==-1,1],'x')\n",
    "plt.plot(x1,-w[0]/w[1]*x1,linestyle='dashed')\n",
    "plt.show()"
   ]
  },
  {
   "cell_type": "code",
   "execution_count": 9,
   "metadata": {},
   "outputs": [
    {
     "data": {
      "text/plain": [
       "1"
      ]
     },
     "execution_count": 9,
     "metadata": {},
     "output_type": "execute_result"
    }
   ],
   "source": [
    "f([200,100])"
   ]
  },
  {
   "cell_type": "code",
   "execution_count": 10,
   "metadata": {},
   "outputs": [
    {
     "data": {
      "text/plain": [
       "-1"
      ]
     },
     "execution_count": 10,
     "metadata": {},
     "output_type": "execute_result"
    }
   ],
   "source": [
    "f([100,200])"
   ]
  },
  {
   "cell_type": "code",
   "execution_count": null,
   "metadata": {},
   "outputs": [],
   "source": []
  }
 ],
 "metadata": {
  "kernelspec": {
   "display_name": "Python 3",
   "language": "python",
   "name": "python3"
  },
  "language_info": {
   "codemirror_mode": {
    "name": "ipython",
    "version": 3
   },
   "file_extension": ".py",
   "mimetype": "text/x-python",
   "name": "python",
   "nbconvert_exporter": "python",
   "pygments_lexer": "ipython3",
   "version": "3.6.4"
  }
 },
 "nbformat": 4,
 "nbformat_minor": 2
}
