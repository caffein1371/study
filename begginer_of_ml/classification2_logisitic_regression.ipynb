{
 "cells": [
  {
   "cell_type": "code",
   "execution_count": 15,
   "metadata": {},
   "outputs": [
    {
     "data": {
      "image/png": "[encoded data removed]",
      "text/plain": [
       "<matplotlib.figure.Figure at 0x117f47f28>"
      ]
     },
     "metadata": {},
     "output_type": "display_data"
    }
   ],
   "source": [
    "import numpy as np\n",
    "import matplotlib.pyplot as plt\n",
    "\n",
    "#学習データを読み込む\n",
    "train = np.loadtxt('verification2.csv', delimiter =',', skiprows=1)\n",
    "train_x = train[:,0:2]\n",
    "train_y = train[:,2]\n",
    "\n",
    "theta = np.random.rand(3)\n",
    "\n",
    "#標準化\n",
    "mu = train_x.mean()\n",
    "sigma = train_x.std()\n",
    "def standardize(x):\n",
    "    return (x -mu) / sigma\n",
    "\n",
    "train_z = standardize(train_x)\n",
    "\n",
    "#x0を加える\n",
    "def to_matrix(x):\n",
    "    x0 = np.ones([x.shape[0],1])\n",
    "    return np.hstack([x0,x])\n",
    "\n",
    "X = to_matrix(train_z)\n",
    "\n",
    "plt.plot(train_z[train_y ==1,0],train_z[train_y ==1,1],'o')\n",
    "plt.plot(train_z[train_y ==0,0],train_z[train_y ==0,1],'x')\n",
    "plt.show()"
   ]
  },
  {
   "cell_type": "markdown",
   "metadata": {},
   "source": [
    "* シグモイド関数\n",
    "$$\n",
    "    f_θ({x}) = 1/{(1+exp(-θ^Tx))}\n",
    "$$"
   ]
  },
  {
   "cell_type": "code",
   "execution_count": 16,
   "metadata": {},
   "outputs": [],
   "source": [
    "#シグモイド関数\n",
    "def f(x):\n",
    "    return 1 / (1+np.exp(-np.dot(x,theta)))"
   ]
  },
  {
   "cell_type": "code",
   "execution_count": 20,
   "metadata": {},
   "outputs": [
    {
     "data": {
      "image/png": "[encoded data removed]",
      "text/plain": [
       "<matplotlib.figure.Figure at 0x118363748>"
      ]
     },
     "metadata": {},
     "output_type": "display_data"
    }
   ],
   "source": [
    "#学習率\n",
    "ETA = 1e-3\n",
    "#繰り返し回数\n",
    "epoch = 5000\n",
    "\n",
    "count =0\n",
    "\n",
    "#学習を繰り返す\n",
    "for _ in range(epoch):\n",
    "    theta = theta - ETA*np.dot(f(X)-train_y,X)\n",
    "#     count +=1\n",
    "#     log = '{}回目 : theta0 = {:.3f},theta1 = {:.3f},theta2 = {:.3f}'\n",
    "#     print(log.format(count,theta[0],theta[1],theta[2]))\n",
    "\n",
    "x0 = np.linspace(-2,2,100)\n",
    "plt.plot(train_z[train_y ==1,0],train_z[train_y ==1,1],'o')\n",
    "plt.plot(train_z[train_y ==0,0],train_z[train_y ==0,1],'x')\n",
    "plt.plot(x0,-(theta[0]+theta[1]*x0)/theta[2],linestyle='dashed')\n",
    "plt.show()"
   ]
  },
  {
   "cell_type": "code",
   "execution_count": 23,
   "metadata": {},
   "outputs": [
    {
     "data": {
      "text/plain": [
       "array([0.96834074, 0.00178639])"
      ]
     },
     "execution_count": 23,
     "metadata": {},
     "output_type": "execute_result"
    }
   ],
   "source": [
    "f(to_matrix(standardize([[200,100],[100,200]])))"
   ]
  },
  {
   "cell_type": "code",
   "execution_count": 24,
   "metadata": {},
   "outputs": [],
   "source": [
    "def classify(x):\n",
    "    return (f(x) >=0.5).astype(np.int)"
   ]
  },
  {
   "cell_type": "code",
   "execution_count": 26,
   "metadata": {},
   "outputs": [
    {
     "data": {
      "text/plain": [
       "array([1, 0])"
      ]
     },
     "execution_count": 26,
     "metadata": {},
     "output_type": "execute_result"
    }
   ],
   "source": [
    "classify(to_matrix(standardize([[200,100],[100,200]])))"
   ]
  },
  {
   "cell_type": "code",
   "execution_count": null,
   "metadata": {},
   "outputs": [],
   "source": []
  }
 ],
 "metadata": {
  "kernelspec": {
   "display_name": "Python 3",
   "language": "python",
   "name": "python3"
  },
  "language_info": {
   "codemirror_mode": {
    "name": "ipython",
    "version": 3
   },
   "file_extension": ".py",
   "mimetype": "text/x-python",
   "name": "python",
   "nbconvert_exporter": "python",
   "pygments_lexer": "ipython3",
   "version": "3.6.4"
  }
 },
 "nbformat": 4,
 "nbformat_minor": 2
}
